{
  "nbformat": 4,
  "nbformat_minor": 0,
  "metadata": {
    "colab": {
      "provenance": []
    },
    "kernelspec": {
      "name": "python3",
      "display_name": "Python 3"
    },
    "language_info": {
      "name": "python"
    }
  },
  "cells": [
    {
      "cell_type": "markdown",
      "source": [
        "*** 1 a) Write a program to extract all twitter handles from the following text. Twitter handle is the text that appears after https://twitter.com/ and is a single word. Also it contains only alphanumeric characters i.e. A-Z a-z, o to 9 and underscore _Write a program to perform text preprocessing***\n",
        "\n",
        "\n"
      ],
      "metadata": {
        "id": "BzIhnLS70h90"
      }
    },
    {
      "cell_type": "code",
      "execution_count": null,
      "metadata": {
        "colab": {
          "base_uri": "https://localhost:8080/"
        },
        "id": "1AAXagJn0Ddj",
        "outputId": "8ca4fbc3-75ac-41ea-dd0e-0e0ad4db3b75"
      },
      "outputs": [
        {
          "output_type": "stream",
          "name": "stdout",
          "text": [
            "['openai', 'elonmusk']\n"
          ]
        }
      ],
      "source": [
        "import re\n",
        "\n",
        "def extract_twitter_handles(text):\n",
        "    pattern = r\"https://twitter\\.com/([a-zA-Z0-9_]+)\"\n",
        "    handles = re.findall(pattern, text)\n",
        "    return handles\n",
        "\n",
        "# Example text\n",
        "text = \"Follow us on https://twitter.com/openai and https://twitter.com/elonmusk for updates!\"\n",
        "print(extract_twitter_handles(text))"
      ]
    },
    {
      "cell_type": "markdown",
      "source": [
        "***1 b) Write a program to Perform Preprocessing (Tokenization, Stop Word Removal and Stemming) of Text***"
      ],
      "metadata": {
        "id": "JZVj93lc0rEZ"
      }
    },
    {
      "cell_type": "code",
      "source": [
        "import nltk\n",
        "from nltk.tokenize import word_tokenize\n",
        "from nltk.corpus import stopwords\n",
        "from nltk.stem import PorterStemmer\n",
        "\n",
        "# Download the 'punkt_tab' data package\n",
        "nltk.download('punkt_tab')  # This line is added to download the required data\n",
        "\n",
        "nltk.download('punkt')\n",
        "nltk.download('stopwords')\n",
        "\n",
        "def preprocess_text(text):\n",
        "    # Tokenization\n",
        "    tokens = word_tokenize(text)\n",
        "\n",
        "    # Stopword removal\n",
        "    stop_words = set(stopwords.words('english'))\n",
        "    filtered_tokens = [word for word in tokens if word.lower() not in stop_words]\n",
        "\n",
        "    # Stemming\n",
        "    stemmer = PorterStemmer()\n",
        "    stemmed_tokens = [stemmer.stem(word) for word in filtered_tokens]\n",
        "\n",
        "    return stemmed_tokens\n",
        "\n",
        "# Example text\n",
        "text = \"Natural language processing is a fascinating field of artificial intelligence.\"\n",
        "print(preprocess_text(text))"
      ],
      "metadata": {
        "colab": {
          "base_uri": "https://localhost:8080/"
        },
        "id": "nEK1xAA10Vdi",
        "outputId": "8c1611ce-ff24-4a37-fef8-53b5d105ad80"
      },
      "execution_count": null,
      "outputs": [
        {
          "output_type": "stream",
          "name": "stdout",
          "text": [
            "['natur', 'languag', 'process', 'fascin', 'field', 'artifici', 'intellig', '.']\n"
          ]
        },
        {
          "output_type": "stream",
          "name": "stderr",
          "text": [
            "[nltk_data] Downloading package punkt_tab to /root/nltk_data...\n",
            "[nltk_data]   Unzipping tokenizers/punkt_tab.zip.\n",
            "[nltk_data] Downloading package punkt to /root/nltk_data...\n",
            "[nltk_data]   Package punkt is already up-to-date!\n",
            "[nltk_data] Downloading package stopwords to /root/nltk_data...\n",
            "[nltk_data]   Package stopwords is already up-to-date!\n"
          ]
        }
      ]
    },
    {
      "cell_type": "markdown",
      "source": [
        "*** 2 a) Write a program to plot the graph with the most frequently distributed word in the given text.***"
      ],
      "metadata": {
        "id": "pzggIXl21DvE"
      }
    },
    {
      "cell_type": "code",
      "source": [
        "from collections import Counter\n",
        "import matplotlib.pyplot as plt\n",
        "from nltk.tokenize import word_tokenize\n",
        "import nltk\n",
        "\n",
        "nltk.download('punkt')\n",
        "\n",
        "def plot_most_frequent_words(text, n=10):\n",
        "    tokens = word_tokenize(text)\n",
        "    word_counts = Counter(tokens)\n",
        "    most_common = word_counts.most_common(n)\n",
        "\n",
        "    words, counts = zip(*most_common)\n",
        "    plt.bar(words, counts)\n",
        "    plt.xlabel('Words')\n",
        "    plt.ylabel('Frequency')\n",
        "    plt.title('Most Frequent Words')\n",
        "    plt.show()\n",
        "\n",
        "# Example text\n",
        "text = \"Artificial intelligence is transforming the world. Intelligence is the key.\"\n",
        "plot_most_frequent_words(text)\n"
      ],
      "metadata": {
        "colab": {
          "base_uri": "https://localhost:8080/",
          "height": 507
        },
        "id": "PahLNGts1VEi",
        "outputId": "9d201633-105f-4ad1-cf1b-0ce7791840c1"
      },
      "execution_count": null,
      "outputs": [
        {
          "output_type": "stream",
          "name": "stderr",
          "text": [
            "[nltk_data] Downloading package punkt to /root/nltk_data...\n",
            "[nltk_data]   Package punkt is already up-to-date!\n"
          ]
        },
        {
          "output_type": "display_data",
          "data": {
            "text/plain": [
              "<Figure size 640x480 with 1 Axes>"
            ],
            "image/png": "[encoded data removed]"
          },
          "metadata": {}
        }
      ]
    },
    {
      "cell_type": "markdown",
      "source": [
        "*** 2 b) Write a Python program to implement and compare three text-splitting techniques—word_tokenize from NLTK, Python's built-in split ()\n",
        "method, and splitting using regular expressions (regex)—on a given text input. Observe and analyze the differences in their outputs.***"
      ],
      "metadata": {
        "id": "Qmkm_QDn1bnz"
      }
    },
    {
      "cell_type": "code",
      "source": [
        "import nltk\n",
        "import re\n",
        "nltk.download('punkt')\n",
        "\n",
        "def compare_tokenization_methods(text):\n",
        "    # Method 1: NLTK word_tokenize\n",
        "    nltk_tokens = nltk.word_tokenize(text)\n",
        "\n",
        "    # Method 2: Python's split()\n",
        "    split_tokens = text.split()\n",
        "\n",
        "    # Method 3: Regex split\n",
        "    regex_tokens = re.findall(r'\\b\\w+\\b', text)\n",
        "\n",
        "    return print(\"NLTK :\" ,nltk_tokens,\"\\n\",\"Split :\", split_tokens ,\"\\n\" ,\"Regex :\" ,regex_tokens)\n",
        "\n",
        "# Example text\n",
        "text = \"Natural language processing involves tokenization, stemming, and lemmatization.\"\n",
        "print(compare_tokenization_methods(text))\n",
        "\n"
      ],
      "metadata": {
        "colab": {
          "base_uri": "https://localhost:8080/"
        },
        "id": "3DdyMecn03-o",
        "outputId": "871c1f5f-56b7-4786-8894-4aff9ea73aed"
      },
      "execution_count": null,
      "outputs": [
        {
          "output_type": "stream",
          "name": "stdout",
          "text": [
            "NLTK : ['Natural', 'language', 'processing', 'involves', 'tokenization', ',', 'stemming', ',', 'and', 'lemmatization', '.'] \n",
            " Split : ['Natural', 'language', 'processing', 'involves', 'tokenization,', 'stemming,', 'and', 'lemmatization.'] \n",
            " Regex : ['Natural', 'language', 'processing', 'involves', 'tokenization', 'stemming', 'and', 'lemmatization']\n",
            "None\n"
          ]
        },
        {
          "output_type": "stream",
          "name": "stderr",
          "text": [
            "[nltk_data] Downloading package punkt to /root/nltk_data...\n",
            "[nltk_data]   Package punkt is already up-to-date!\n"
          ]
        }
      ]
    },
    {
      "cell_type": "markdown",
      "source": [
        "*** 3 a) Write a program to demonstrate how to use the nltk library to process text and generate a part-of-speech tag for each word and draw the parsed result.***"
      ],
      "metadata": {
        "id": "etVy5Gyq1i8s"
      }
    },
    {
      "cell_type": "code",
      "source": [
        "import nltk\n",
        "from nltk import pos_tag, word_tokenize\n",
        "from nltk.tree import Tree\n",
        "\n",
        "# Ensure required packages are downloaded\n",
        "nltk.download('punkt')\n",
        "nltk.download('averaged_perceptron_tagger_eng')\n",
        "\n",
        "def pos_tagging_and_parse_visualization(text):\n",
        "    # Tokenize the input text\n",
        "    tokens = word_tokenize(text)\n",
        "    # Generate POS tags\n",
        "    pos_tags = pos_tag(tokens)\n",
        "\n",
        "    # Create a parse tree using the POS tags\n",
        "    tree = Tree(\"S\", [(word, tag) for word, tag in pos_tags])\n",
        "\n",
        "    # Display POS tags\n",
        "    print(\"POS Tags:\")\n",
        "    for word, tag in pos_tags:\n",
        "        print(f\"{word} -> {tag}\")\n",
        "\n",
        "    # Visualize the parse tree\n",
        "    print(\"\\nVisualizing the parse tree...\")\n",
        "    tree.draw()\n",
        "\n",
        "# Example input text\n",
        "text = \"Natural language processing is a fascinating field.\"\n",
        "\n",
        "pos_tagging_and_parse_visualization(text)"
      ],
      "metadata": {
        "colab": {
          "base_uri": "https://localhost:8080/",
          "height": 617
        },
        "id": "18SH3Ine1h1b",
        "outputId": "01994095-5c25-40b3-fcd6-1b9782e86176"
      },
      "execution_count": null,
      "outputs": [
        {
          "output_type": "stream",
          "name": "stdout",
          "text": [
            "POS Tags:\n",
            "Natural -> JJ\n",
            "language -> NN\n",
            "processing -> NN\n",
            "is -> VBZ\n",
            "a -> DT\n",
            "fascinating -> JJ\n",
            "field -> NN\n",
            ". -> .\n",
            "\n",
            "Visualizing the parse tree...\n"
          ]
        },
        {
          "output_type": "stream",
          "name": "stderr",
          "text": [
            "[nltk_data] Downloading package punkt to /root/nltk_data...\n",
            "[nltk_data]   Package punkt is already up-to-date!\n",
            "[nltk_data] Downloading package averaged_perceptron_tagger_eng to\n",
            "[nltk_data]     /root/nltk_data...\n",
            "[nltk_data]   Package averaged_perceptron_tagger_eng is already up-to-\n",
            "[nltk_data]       date!\n"
          ]
        },
        {
          "output_type": "error",
          "ename": "TclError",
          "evalue": "no display name and no $DISPLAY environment variable",
          "traceback": [
            "\u001b[0;31m---------------------------------------------------------------------------\u001b[0m",
            "\u001b[0;31mTclError\u001b[0m                                  Traceback (most recent call last)",
            "\u001b[0;32m<ipython-input-11-736e6579274b>\u001b[0m in \u001b[0;36m<cell line: 30>\u001b[0;34m()\u001b[0m\n\u001b[1;32m     28\u001b[0m \u001b[0mtext\u001b[0m \u001b[0;34m=\u001b[0m \u001b[0;34m\"Natural language processing is a fascinating field.\"\u001b[0m\u001b[0;34m\u001b[0m\u001b[0;34m\u001b[0m\u001b[0m\n\u001b[1;32m     29\u001b[0m \u001b[0;34m\u001b[0m\u001b[0m\n\u001b[0;32m---> 30\u001b[0;31m \u001b[0mpos_tagging_and_parse_visualization\u001b[0m\u001b[0;34m(\u001b[0m\u001b[0mtext\u001b[0m\u001b[0;34m)\u001b[0m\u001b[0;34m\u001b[0m\u001b[0;34m\u001b[0m\u001b[0m\n\u001b[0m",
            "\u001b[0;32m<ipython-input-11-736e6579274b>\u001b[0m in \u001b[0;36mpos_tagging_and_parse_visualization\u001b[0;34m(text)\u001b[0m\n\u001b[1;32m     23\u001b[0m     \u001b[0;31m# Visualize the parse tree\u001b[0m\u001b[0;34m\u001b[0m\u001b[0;34m\u001b[0m\u001b[0m\n\u001b[1;32m     24\u001b[0m     \u001b[0mprint\u001b[0m\u001b[0;34m(\u001b[0m\u001b[0;34m\"\\nVisualizing the parse tree...\"\u001b[0m\u001b[0;34m)\u001b[0m\u001b[0;34m\u001b[0m\u001b[0;34m\u001b[0m\u001b[0m\n\u001b[0;32m---> 25\u001b[0;31m     \u001b[0mtree\u001b[0m\u001b[0;34m.\u001b[0m\u001b[0mdraw\u001b[0m\u001b[0;34m(\u001b[0m\u001b[0;34m)\u001b[0m\u001b[0;34m\u001b[0m\u001b[0;34m\u001b[0m\u001b[0m\n\u001b[0m\u001b[1;32m     26\u001b[0m \u001b[0;34m\u001b[0m\u001b[0m\n\u001b[1;32m     27\u001b[0m \u001b[0;31m# Example input text\u001b[0m\u001b[0;34m\u001b[0m\u001b[0;34m\u001b[0m\u001b[0m\n",
            "\u001b[0;32m/usr/local/lib/python3.10/dist-packages/nltk/tree/tree.py\u001b[0m in \u001b[0;36mdraw\u001b[0;34m(self)\u001b[0m\n\u001b[1;32m    759\u001b[0m         \u001b[0;32mfrom\u001b[0m \u001b[0mnltk\u001b[0m\u001b[0;34m.\u001b[0m\u001b[0mdraw\u001b[0m\u001b[0;34m.\u001b[0m\u001b[0mtree\u001b[0m \u001b[0;32mimport\u001b[0m \u001b[0mdraw_trees\u001b[0m\u001b[0;34m\u001b[0m\u001b[0;34m\u001b[0m\u001b[0m\n\u001b[1;32m    760\u001b[0m \u001b[0;34m\u001b[0m\u001b[0m\n\u001b[0;32m--> 761\u001b[0;31m         \u001b[0mdraw_trees\u001b[0m\u001b[0;34m(\u001b[0m\u001b[0mself\u001b[0m\u001b[0;34m)\u001b[0m\u001b[0;34m\u001b[0m\u001b[0;34m\u001b[0m\u001b[0m\n\u001b[0m\u001b[1;32m    762\u001b[0m \u001b[0;34m\u001b[0m\u001b[0m\n\u001b[1;32m    763\u001b[0m     \u001b[0;32mdef\u001b[0m \u001b[0mpretty_print\u001b[0m\u001b[0;34m(\u001b[0m\u001b[0mself\u001b[0m\u001b[0;34m,\u001b[0m \u001b[0msentence\u001b[0m\u001b[0;34m=\u001b[0m\u001b[0;32mNone\u001b[0m\u001b[0;34m,\u001b[0m \u001b[0mhighlight\u001b[0m\u001b[0;34m=\u001b[0m\u001b[0;34m(\u001b[0m\u001b[0;34m)\u001b[0m\u001b[0;34m,\u001b[0m \u001b[0mstream\u001b[0m\u001b[0;34m=\u001b[0m\u001b[0;32mNone\u001b[0m\u001b[0;34m,\u001b[0m \u001b[0;34m**\u001b[0m\u001b[0mkwargs\u001b[0m\u001b[0;34m)\u001b[0m\u001b[0;34m:\u001b[0m\u001b[0;34m\u001b[0m\u001b[0;34m\u001b[0m\u001b[0m\n",
            "\u001b[0;32m/usr/local/lib/python3.10/dist-packages/nltk/draw/tree.py\u001b[0m in \u001b[0;36mdraw_trees\u001b[0;34m(*trees)\u001b[0m\n\u001b[1;32m   1006\u001b[0m     \u001b[0;34m:\u001b[0m\u001b[0mrtype\u001b[0m\u001b[0;34m:\u001b[0m \u001b[0;32mNone\u001b[0m\u001b[0;34m\u001b[0m\u001b[0;34m\u001b[0m\u001b[0m\n\u001b[1;32m   1007\u001b[0m     \"\"\"\n\u001b[0;32m-> 1008\u001b[0;31m     \u001b[0mTreeView\u001b[0m\u001b[0;34m(\u001b[0m\u001b[0;34m*\u001b[0m\u001b[0mtrees\u001b[0m\u001b[0;34m)\u001b[0m\u001b[0;34m.\u001b[0m\u001b[0mmainloop\u001b[0m\u001b[0;34m(\u001b[0m\u001b[0;34m)\u001b[0m\u001b[0;34m\u001b[0m\u001b[0;34m\u001b[0m\u001b[0m\n\u001b[0m\u001b[1;32m   1009\u001b[0m     \u001b[0;32mreturn\u001b[0m\u001b[0;34m\u001b[0m\u001b[0;34m\u001b[0m\u001b[0m\n\u001b[1;32m   1010\u001b[0m \u001b[0;34m\u001b[0m\u001b[0m\n",
            "\u001b[0;32m/usr/local/lib/python3.10/dist-packages/nltk/draw/tree.py\u001b[0m in \u001b[0;36m__init__\u001b[0;34m(self, *trees)\u001b[0m\n\u001b[1;32m    857\u001b[0m         \u001b[0mself\u001b[0m\u001b[0;34m.\u001b[0m\u001b[0m_trees\u001b[0m \u001b[0;34m=\u001b[0m \u001b[0mtrees\u001b[0m\u001b[0;34m\u001b[0m\u001b[0;34m\u001b[0m\u001b[0m\n\u001b[1;32m    858\u001b[0m \u001b[0;34m\u001b[0m\u001b[0m\n\u001b[0;32m--> 859\u001b[0;31m         \u001b[0mself\u001b[0m\u001b[0;34m.\u001b[0m\u001b[0m_top\u001b[0m \u001b[0;34m=\u001b[0m \u001b[0mTk\u001b[0m\u001b[0;34m(\u001b[0m\u001b[0;34m)\u001b[0m\u001b[0;34m\u001b[0m\u001b[0;34m\u001b[0m\u001b[0m\n\u001b[0m\u001b[1;32m    860\u001b[0m         \u001b[0mself\u001b[0m\u001b[0;34m.\u001b[0m\u001b[0m_top\u001b[0m\u001b[0;34m.\u001b[0m\u001b[0mtitle\u001b[0m\u001b[0;34m(\u001b[0m\u001b[0;34m\"NLTK\"\u001b[0m\u001b[0;34m)\u001b[0m\u001b[0;34m\u001b[0m\u001b[0;34m\u001b[0m\u001b[0m\n\u001b[1;32m    861\u001b[0m         \u001b[0mself\u001b[0m\u001b[0;34m.\u001b[0m\u001b[0m_top\u001b[0m\u001b[0;34m.\u001b[0m\u001b[0mbind\u001b[0m\u001b[0;34m(\u001b[0m\u001b[0;34m\"<Control-x>\"\u001b[0m\u001b[0;34m,\u001b[0m \u001b[0mself\u001b[0m\u001b[0;34m.\u001b[0m\u001b[0mdestroy\u001b[0m\u001b[0;34m)\u001b[0m\u001b[0;34m\u001b[0m\u001b[0;34m\u001b[0m\u001b[0m\n",
            "\u001b[0;32m/usr/lib/python3.10/tkinter/__init__.py\u001b[0m in \u001b[0;36m__init__\u001b[0;34m(self, screenName, baseName, className, useTk, sync, use)\u001b[0m\n\u001b[1;32m   2297\u001b[0m                 \u001b[0mbaseName\u001b[0m \u001b[0;34m=\u001b[0m \u001b[0mbaseName\u001b[0m \u001b[0;34m+\u001b[0m \u001b[0mext\u001b[0m\u001b[0;34m\u001b[0m\u001b[0;34m\u001b[0m\u001b[0m\n\u001b[1;32m   2298\u001b[0m         \u001b[0minteractive\u001b[0m \u001b[0;34m=\u001b[0m \u001b[0;32mFalse\u001b[0m\u001b[0;34m\u001b[0m\u001b[0;34m\u001b[0m\u001b[0m\n\u001b[0;32m-> 2299\u001b[0;31m         \u001b[0mself\u001b[0m\u001b[0;34m.\u001b[0m\u001b[0mtk\u001b[0m \u001b[0;34m=\u001b[0m \u001b[0m_tkinter\u001b[0m\u001b[0;34m.\u001b[0m\u001b[0mcreate\u001b[0m\u001b[0;34m(\u001b[0m\u001b[0mscreenName\u001b[0m\u001b[0;34m,\u001b[0m \u001b[0mbaseName\u001b[0m\u001b[0;34m,\u001b[0m \u001b[0mclassName\u001b[0m\u001b[0;34m,\u001b[0m \u001b[0minteractive\u001b[0m\u001b[0;34m,\u001b[0m \u001b[0mwantobjects\u001b[0m\u001b[0;34m,\u001b[0m \u001b[0museTk\u001b[0m\u001b[0;34m,\u001b[0m \u001b[0msync\u001b[0m\u001b[0;34m,\u001b[0m \u001b[0muse\u001b[0m\u001b[0;34m)\u001b[0m\u001b[0;34m\u001b[0m\u001b[0;34m\u001b[0m\u001b[0m\n\u001b[0m\u001b[1;32m   2300\u001b[0m         \u001b[0;32mif\u001b[0m \u001b[0museTk\u001b[0m\u001b[0;34m:\u001b[0m\u001b[0;34m\u001b[0m\u001b[0;34m\u001b[0m\u001b[0m\n\u001b[1;32m   2301\u001b[0m             \u001b[0mself\u001b[0m\u001b[0;34m.\u001b[0m\u001b[0m_loadtk\u001b[0m\u001b[0;34m(\u001b[0m\u001b[0;34m)\u001b[0m\u001b[0;34m\u001b[0m\u001b[0;34m\u001b[0m\u001b[0m\n",
            "\u001b[0;31mTclError\u001b[0m: no display name and no $DISPLAY environment variable"
          ]
        }
      ]
    },
    {
      "cell_type": "markdown",
      "source": [
        "*** 3 b) Write a program to extract the personal Information such as name, age, date of birth, education and place of birth from the given text.\n",
        "text=''' Born Elon Reeve Musk June 28, 1971 (age 50) Pretoria, Transvaal, South Africa Citizenship South Africa Education University of Pennsylvania (BS, BA) Title Founder, CEO and Chief Engineer of SpaceX\n",
        "CEO and product architect of Tesla, Inc.\n",
        "Founder of The Boring Company and X.com (now part of PayPal)\n",
        "Co-founder of Neuralink, OpenAI, and Zip2\n",
        "Spouse(s) Justine Wilson (m. 2000; div. 2008) '''***"
      ],
      "metadata": {
        "id": "vCf-8hP52LKK"
      }
    },
    {
      "cell_type": "code",
      "source": [
        "import re\n",
        "\n",
        "def extract_personal_info(text):\n",
        "    info = {}\n",
        "    # Extract name\n",
        "    name_match = re.search(r\"Born ([A-Za-z\\s]+)\", text)\n",
        "    info['Name'] = name_match.group(1) if name_match else None\n",
        "\n",
        "    # Extract date of birth\n",
        "    dob_match = re.search(r\"Born [A-Za-z\\s]+(\\d{1,2} \\w+ \\d{4})\", text)\n",
        "    info['Date of Birth'] = dob_match.group(1) if dob_match else None\n",
        "\n",
        "    # Extract age\n",
        "    age_match = re.search(r\"\\(age (\\d+)\\)\", text)\n",
        "    info['Age'] = age_match.group(1) if age_match else None\n",
        "\n",
        "    # Extract education\n",
        "    education_match = re.search(r\"Education ([^\\n]+)\", text)\n",
        "    info['Education'] = education_match.group(1).strip() if education_match else None\n",
        "\n",
        "    # Extract place of birth\n",
        "    pob_match = re.search(r\"Born .+\\n(.+)\", text)\n",
        "    info['Place of Birth'] = pob_match.group(1) if pob_match else None\n",
        "\n",
        "    return info\n",
        "\n",
        "# Example text\n",
        "text = \"\"\"Born Elon Reeve Musk\n",
        "June 28, 1971 (age 50)\n",
        "Pretoria, Transvaal, South Africa\n",
        "Education University of Pennsylvania (BS, BA)\n",
        "Title Founder, CEO and Chief Engineer of SpaceX\"\"\"\n",
        "print(extract_personal_info(text))\n"
      ],
      "metadata": {
        "colab": {
          "base_uri": "https://localhost:8080/"
        },
        "id": "2lPubBme1sqa",
        "outputId": "8b64fbfd-59e4-4ae7-89eb-5ae2035acd7d"
      },
      "execution_count": null,
      "outputs": [
        {
          "output_type": "stream",
          "name": "stdout",
          "text": [
            "{'Name': 'Elon Reeve Musk\\nJune ', 'Date of Birth': None, 'Age': '50', 'Education': 'University of Pennsylvania (BS, BA)', 'Place of Birth': 'June 28, 1971 (age 50)'}\n"
          ]
        }
      ]
    },
    {
      "cell_type": "markdown",
      "source": [
        "***4. a) Write a program to implement N-Gram Model from the given text,\n",
        "excluding the stop words\n",
        "text: \"Artificial intelligence has made significant advancements,\n",
        "but it still struggles to understand human emotions and context,\n",
        "limiting its ability to interact naturally.\"***"
      ],
      "metadata": {
        "id": "H5m_nOHm20bJ"
      }
    },
    {
      "cell_type": "code",
      "source": [
        "from nltk.util import ngrams\n",
        "from nltk.tokenize import word_tokenize\n",
        "from nltk.corpus import stopwords\n",
        "import nltk\n",
        "\n",
        "nltk.download('punkt')\n",
        "nltk.download('stopwords')\n",
        "\n",
        "def ngram_model(text, n=2):\n",
        "    # Tokenization\n",
        "    tokens = word_tokenize(text)\n",
        "    # Remove stop words\n",
        "    stop_words = set(stopwords.words('english'))\n",
        "    filtered_tokens = [word for word in tokens if word.lower() not in stop_words and word.isalnum()]\n",
        "    # Generate n-grams\n",
        "    ngrams_list = list(ngrams(filtered_tokens, n))\n",
        "    return ngrams_list\n",
        "\n",
        "# Example text\n",
        "text = \"Artificial intelligence has made significant advancements, but it still struggles to understand human emotions and context.\"\n",
        "print(ngram_model(text, n=2))\n"
      ],
      "metadata": {
        "colab": {
          "base_uri": "https://localhost:8080/"
        },
        "id": "eHYFp_Gv2XHK",
        "outputId": "842e928a-9fdf-473d-c465-4d1d1293c953"
      },
      "execution_count": null,
      "outputs": [
        {
          "output_type": "stream",
          "name": "stdout",
          "text": [
            "[('Artificial', 'intelligence'), ('intelligence', 'made'), ('made', 'significant'), ('significant', 'advancements'), ('advancements', 'still'), ('still', 'struggles'), ('struggles', 'understand'), ('understand', 'human'), ('human', 'emotions'), ('emotions', 'context')]\n"
          ]
        },
        {
          "output_type": "stream",
          "name": "stderr",
          "text": [
            "[nltk_data] Downloading package punkt to /root/nltk_data...\n",
            "[nltk_data]   Package punkt is already up-to-date!\n",
            "[nltk_data] Downloading package stopwords to /root/nltk_data...\n",
            "[nltk_data]   Package stopwords is already up-to-date!\n"
          ]
        }
      ]
    },
    {
      "cell_type": "markdown",
      "source": [
        "***4 b) Write a Program to plot the graph with the most frequently distributed\n",
        "word without stop words and punctuation in the given text.***"
      ],
      "metadata": {
        "id": "qaaFlUDc3Mlb"
      }
    },
    {
      "cell_type": "code",
      "source": [
        "from collections import Counter\n",
        "import matplotlib.pyplot as plt\n",
        "from nltk.tokenize import word_tokenize\n",
        "from nltk.corpus import stopwords\n",
        "import nltk\n",
        "\n",
        "nltk.download('punkt')\n",
        "nltk.download('stopwords')\n",
        "\n",
        "def plot_most_frequent_words_no_stopwords(text, n=10):\n",
        "    # Tokenization\n",
        "    tokens = word_tokenize(text)\n",
        "    # Stop words and punctuation removal\n",
        "    stop_words = set(stopwords.words('english'))\n",
        "    filtered_tokens = [word.lower() for word in tokens if word.lower() not in stop_words and word.isalnum()]\n",
        "    # Frequency count\n",
        "    word_counts = Counter(filtered_tokens)\n",
        "    most_common = word_counts.most_common(n)\n",
        "\n",
        "    words, counts = zip(*most_common)\n",
        "    plt.bar(words, counts)\n",
        "    plt.xlabel('Words')\n",
        "    plt.ylabel('Frequency')\n",
        "    plt.title('Most Frequent Words (No Stopwords/Punctuation)')\n",
        "    plt.show()\n",
        "\n",
        "# Example text\n",
        "text = \"Artificial intelligence is transforming the world. It is exciting yet challenging!\"\n",
        "plot_most_frequent_words_no_stopwords(text)\n"
      ],
      "metadata": {
        "colab": {
          "base_uri": "https://localhost:8080/",
          "height": 541
        },
        "id": "VO3-jJ1H2Tyz",
        "outputId": "be0de5d3-fe22-407e-81d2-e4c0e92f874e"
      },
      "execution_count": null,
      "outputs": [
        {
          "output_type": "stream",
          "name": "stderr",
          "text": [
            "[nltk_data] Downloading package punkt to /root/nltk_data...\n",
            "[nltk_data]   Package punkt is already up-to-date!\n",
            "[nltk_data] Downloading package stopwords to /root/nltk_data...\n",
            "[nltk_data]   Package stopwords is already up-to-date!\n"
          ]
        },
        {
          "output_type": "display_data",
          "data": {
            "text/plain": [
              "<Figure size 640x480 with 1 Axes>"
            ],
            "image/png": "[encoded data removed]"
          },
          "metadata": {}
        }
      ]
    },
    {
      "cell_type": "markdown",
      "source": [
        "***5. a) Write a program to demonstrate Morphological Analysis and Perform\n",
        "Lemmatization based on the Parts of Speech on the given text.***"
      ],
      "metadata": {
        "id": "fSdTp0Ug3V1W"
      }
    },
    {
      "cell_type": "code",
      "source": [
        "from nltk.stem import WordNetLemmatizer\n",
        "from nltk import pos_tag\n",
        "from nltk.tokenize import word_tokenize\n",
        "import nltk\n",
        "\n",
        "nltk.download('wordnet')\n",
        "nltk.download('averaged_perceptron_tagger')\n",
        "nltk.download('punkt')\n",
        "\n",
        "def morphological_analysis(text):\n",
        "    lemmatizer = WordNetLemmatizer()\n",
        "    tokens = word_tokenize(text)\n",
        "    pos_tags = pos_tag(tokens)\n",
        "\n",
        "    lemmatized_words = [(word, lemmatizer.lemmatize(word, pos=\"v\")) for word, tag in pos_tags]\n",
        "    return lemmatized_words\n",
        "\n",
        "# Example text\n",
        "text = \"The quick brown fox jumps over the lazy dog.\"\n",
        "print(morphological_analysis(text))\n"
      ],
      "metadata": {
        "colab": {
          "base_uri": "https://localhost:8080/"
        },
        "id": "tyZEQ3vZ3L67",
        "outputId": "74def0d2-5d37-4647-d161-0e22bb160563"
      },
      "execution_count": null,
      "outputs": [
        {
          "output_type": "stream",
          "name": "stderr",
          "text": [
            "[nltk_data] Downloading package wordnet to /root/nltk_data...\n",
            "[nltk_data] Downloading package averaged_perceptron_tagger to\n",
            "[nltk_data]     /root/nltk_data...\n",
            "[nltk_data]   Package averaged_perceptron_tagger is already up-to-\n",
            "[nltk_data]       date!\n",
            "[nltk_data] Downloading package punkt to /root/nltk_data...\n",
            "[nltk_data]   Package punkt is already up-to-date!\n"
          ]
        },
        {
          "output_type": "stream",
          "name": "stdout",
          "text": [
            "[('The', 'The'), ('quick', 'quick'), ('brown', 'brown'), ('fox', 'fox'), ('jumps', 'jump'), ('over', 'over'), ('the', 'the'), ('lazy', 'lazy'), ('dog', 'dog'), ('.', '.')]\n"
          ]
        }
      ]
    },
    {
      "cell_type": "markdown",
      "source": [
        "***5 b) Write a Python program using the NLTK library to process a sentence\n",
        "and generate Part-of-Speech (POS) tags with the averaged perceptron\n",
        "tagger.***"
      ],
      "metadata": {
        "id": "G1Lj5a8q3ing"
      }
    },
    {
      "cell_type": "code",
      "source": [
        "import nltk\n",
        "\n",
        "# Ensure required packages are downloaded\n",
        "nltk.download('punkt')\n",
        "nltk.download('averaged_perceptron_tagger_eng')\n",
        "\n",
        "def generate_pos_tags(sentence):\n",
        "    # Tokenize the sentence\n",
        "    tokens = nltk.word_tokenize(sentence)\n",
        "    # Generate POS tags\n",
        "    pos_tags = nltk.pos_tag(tokens)\n",
        "    return pos_tags\n",
        "\n",
        "# Example sentence\n",
        "sentence = \"Natural language processing enables computers to understand human language.\"\n",
        "\n",
        "# Generate and print POS tags\n",
        "pos_tags = generate_pos_tags(sentence)\n",
        "print(\"Part-of-Speech Tags:\")\n",
        "for word, tag in pos_tags:\n",
        "    print(f\"{word}: {tag}\")\n"
      ],
      "metadata": {
        "colab": {
          "base_uri": "https://localhost:8080/"
        },
        "id": "my_m6NGk3gi7",
        "outputId": "8ed7cb88-9a44-4de9-9894-8b868d89a672"
      },
      "execution_count": null,
      "outputs": [
        {
          "output_type": "stream",
          "name": "stdout",
          "text": [
            "Part-of-Speech Tags:\n",
            "Natural: JJ\n",
            "language: NN\n",
            "processing: NN\n",
            "enables: VBZ\n",
            "computers: NNS\n",
            "to: TO\n",
            "understand: VB\n",
            "human: JJ\n",
            "language: NN\n",
            ".: .\n"
          ]
        },
        {
          "output_type": "stream",
          "name": "stderr",
          "text": [
            "[nltk_data] Downloading package punkt to /root/nltk_data...\n",
            "[nltk_data]   Package punkt is already up-to-date!\n",
            "[nltk_data] Downloading package averaged_perceptron_tagger_eng to\n",
            "[nltk_data]     /root/nltk_data...\n",
            "[nltk_data]   Package averaged_perceptron_tagger_eng is already up-to-\n",
            "[nltk_data]       date!\n"
          ]
        }
      ]
    },
    {
      "cell_type": "markdown",
      "source": [
        "***6 a) Write a program to analyze the different types of Stemmers and\n",
        "Lemmatizer***"
      ],
      "metadata": {
        "id": "-m5DVJKW38i1"
      }
    },
    {
      "cell_type": "code",
      "source": [
        "from nltk.stem import PorterStemmer, LancasterStemmer, SnowballStemmer, WordNetLemmatizer\n",
        "import nltk\n",
        "\n",
        "# Ensure necessary downloads\n",
        "nltk.download('wordnet')\n",
        "nltk.download('omw-1.4')\n",
        "\n",
        "def analyze_stemmers_and_lemmatizer(text):\n",
        "    # Initialize stemmers\n",
        "    porter = PorterStemmer()\n",
        "    lancaster = LancasterStemmer()\n",
        "    snowball = SnowballStemmer(\"english\")\n",
        "    lemmatizer = WordNetLemmatizer()\n",
        "\n",
        "    # Tokenize the input text\n",
        "    tokens = text.split()\n",
        "\n",
        "    # Apply each stemmer and the lemmatizer\n",
        "    results = {\n",
        "        \"Original\": tokens,\n",
        "        \"PorterStemmer\": [porter.stem(word) for word in tokens],\n",
        "        \"LancasterStemmer\": [lancaster.stem(word) for word in tokens],\n",
        "        \"SnowballStemmer\": [snowball.stem(word) for word in tokens],\n",
        "        \"Lemmatizer\": [lemmatizer.lemmatize(word) for word in tokens],\n",
        "    }\n",
        "\n",
        "    return results\n",
        "\n",
        "# Example text\n",
        "text = \"running runs easily fairly\"\n",
        "results = analyze_stemmers_and_lemmatizer(text)\n",
        "\n",
        "print(\"Analysis of Stemmers and Lemmatizer:\")\n",
        "for method, words in results.items():\n",
        "    print(f\"{method}: {words}\")\n"
      ],
      "metadata": {
        "colab": {
          "base_uri": "https://localhost:8080/"
        },
        "id": "QfEdw_tf31gn",
        "outputId": "7cc3f65e-4135-4cee-937e-c1462054924f"
      },
      "execution_count": null,
      "outputs": [
        {
          "output_type": "stream",
          "name": "stdout",
          "text": [
            "Analysis of Stemmers and Lemmatizer:\n",
            "Original: ['running', 'runs', 'easily', 'fairly']\n",
            "PorterStemmer: ['run', 'run', 'easili', 'fairli']\n",
            "LancasterStemmer: ['run', 'run', 'easy', 'fair']\n",
            "SnowballStemmer: ['run', 'run', 'easili', 'fair']\n",
            "Lemmatizer: ['running', 'run', 'easily', 'fairly']\n"
          ]
        },
        {
          "output_type": "stream",
          "name": "stderr",
          "text": [
            "[nltk_data] Downloading package wordnet to /root/nltk_data...\n",
            "[nltk_data]   Package wordnet is already up-to-date!\n",
            "[nltk_data] Downloading package omw-1.4 to /root/nltk_data...\n",
            "[nltk_data]   Package omw-1.4 is already up-to-date!\n"
          ]
        }
      ]
    },
    {
      "cell_type": "markdown",
      "source": [
        "***6 b) Write a Python program to extract syntactic dependency information\n",
        "from a text using the SpaCy library.\n",
        "Text: The quick brown fox jumps over the lazy dog.***"
      ],
      "metadata": {
        "id": "aEtcKI5O4BEA"
      }
    },
    {
      "cell_type": "code",
      "source": [
        "import spacy\n",
        "\n",
        "# Load SpaCy's English model\n",
        "nlp = spacy.load(\"en_core_web_sm\")\n",
        "\n",
        "def extract_syntactic_dependencies(text):\n",
        "    # Process the text\n",
        "    doc = nlp(text)\n",
        "\n",
        "    # Extract dependency information\n",
        "    dependencies = []\n",
        "    for token in doc:\n",
        "        dependencies.append({\n",
        "            \"Text\": token.text,\n",
        "            \"POS\": token.pos_,\n",
        "            \"Dependency\": token.dep_,\n",
        "            \"Head\": token.head.text\n",
        "        })\n",
        "\n",
        "    return dependencies\n",
        "\n",
        "# Example text\n",
        "text = \"The quick brown fox jumps over the lazy dog.\"\n",
        "dependencies = extract_syntactic_dependencies(text)\n",
        "\n",
        "print(\"Syntactic Dependency Information:\")\n",
        "for dep in dependencies:\n",
        "    print(f\"Text: {dep['Text']}, POS: {dep['POS']}, Dependency: {dep['Dependency']}, Head: {dep['Head']}\")\n"
      ],
      "metadata": {
        "colab": {
          "base_uri": "https://localhost:8080/"
        },
        "id": "yHbIk7wT4DaQ",
        "outputId": "388b9f33-0a39-4fc0-da15-cbcba628344d"
      },
      "execution_count": null,
      "outputs": [
        {
          "output_type": "stream",
          "name": "stdout",
          "text": [
            "Syntactic Dependency Information:\n",
            "Text: The, POS: DET, Dependency: det, Head: fox\n",
            "Text: quick, POS: ADJ, Dependency: amod, Head: fox\n",
            "Text: brown, POS: ADJ, Dependency: amod, Head: fox\n",
            "Text: fox, POS: NOUN, Dependency: nsubj, Head: jumps\n",
            "Text: jumps, POS: VERB, Dependency: ROOT, Head: jumps\n",
            "Text: over, POS: ADP, Dependency: prep, Head: jumps\n",
            "Text: the, POS: DET, Dependency: det, Head: dog\n",
            "Text: lazy, POS: ADJ, Dependency: amod, Head: dog\n",
            "Text: dog, POS: NOUN, Dependency: pobj, Head: over\n",
            "Text: ., POS: PUNCT, Dependency: punct, Head: jumps\n"
          ]
        }
      ]
    },
    {
      "cell_type": "markdown",
      "source": [
        "***7 Create a collection of 3 documents. Write a program to find the frequency\n",
        "of bi-grams in this collection. Find the number of bi-grams that occur and\n",
        "display the top 5 most common.***"
      ],
      "metadata": {
        "id": "EHeh3M-i6bTW"
      }
    },
    {
      "cell_type": "code",
      "source": [
        "from nltk import ngrams\n",
        "from collections import Counter\n",
        "\n",
        "def find_bigram_frequency(documents):\n",
        "    # Combine all documents into one text\n",
        "    combined_text = \" \".join(documents)\n",
        "    tokens = combined_text.split()\n",
        "\n",
        "    # Generate bi-grams\n",
        "    bigrams = list(ngrams(tokens, 2))\n",
        "\n",
        "    # Count frequencies\n",
        "    bigram_counts = Counter(bigrams)\n",
        "\n",
        "    # Get total number of bi-grams\n",
        "    total_bigrams = len(bigrams)\n",
        "\n",
        "    # Find top 5 most common bi-grams\n",
        "    top_5_bigrams = bigram_counts.most_common(5)\n",
        "\n",
        "    return bigram_counts, total_bigrams, top_5_bigrams\n",
        "\n",
        "# Example documents\n",
        "documents = [\n",
        "    \"Natural language processing enables computers to understand human language.\",\n",
        "    \"Artificial intelligence and machine learning are key technologies.\",\n",
        "    \"Deep learning advances the field of artificial intelligence.\"\n",
        "]\n",
        "\n",
        "bigram_counts, total_bigrams, top_5_bigrams = find_bigram_frequency(documents)\n",
        "\n",
        "print(f\"Total Bi-grams: {total_bigrams}\")\n",
        "print(\"Top 5 Most Common Bi-grams:\")\n",
        "for bigram, count in top_5_bigrams:\n",
        "    print(f\"{bigram}: {count}\")\n"
      ],
      "metadata": {
        "colab": {
          "base_uri": "https://localhost:8080/"
        },
        "id": "oDF8eH5Z6Ooj",
        "outputId": "6601f5db-0fa3-4ca8-e434-98bbba4423db"
      },
      "execution_count": null,
      "outputs": [
        {
          "output_type": "stream",
          "name": "stdout",
          "text": [
            "Total Bi-grams: 24\n",
            "Top 5 Most Common Bi-grams:\n",
            "('Natural', 'language'): 1\n",
            "('language', 'processing'): 1\n",
            "('processing', 'enables'): 1\n",
            "('enables', 'computers'): 1\n",
            "('computers', 'to'): 1\n"
          ]
        }
      ]
    },
    {
      "cell_type": "markdown",
      "source": [
        "***8. Develop a bigram model with add-one/Laplace smoothing to estimate\n",
        "word sequence probabilities in a corpus effectively handling unseen\n",
        "bigrams to improve generalization and avoid zero probability issues.***"
      ],
      "metadata": {
        "id": "UTW2i-2f6zwD"
      }
    },
    {
      "cell_type": "code",
      "source": [
        "from collections import Counter, defaultdict\n",
        "from nltk import ngrams\n",
        "\n",
        "def bigram_with_laplace_smoothing(corpus):\n",
        "    tokens = corpus.split()\n",
        "\n",
        "    # Generate unigram and bigram counts\n",
        "    unigrams = Counter(tokens)\n",
        "    bigrams = Counter(ngrams(tokens, 2))\n",
        "\n",
        "    # Vocabulary size\n",
        "    vocab_size = len(unigrams)\n",
        "\n",
        "    # Laplace smoothing for bigram probabilities\n",
        "    probabilities = defaultdict(float)\n",
        "    for (w1, w2), bigram_count in bigrams.items():\n",
        "        probabilities[(w1, w2)] = (bigram_count + 1) / (unigrams[w1] + vocab_size)\n",
        "\n",
        "    return probabilities\n",
        "\n",
        "# Example corpus\n",
        "corpus = \"the cat sat on the mat the cat saw the mat\"\n",
        "bigram_probabilities = bigram_with_laplace_smoothing(corpus)\n",
        "\n",
        "print(\"Bigram Probabilities with Laplace Smoothing:\")\n",
        "for bigram, prob in bigram_probabilities.items():\n",
        "    print(f\"{bigram}: {prob:.4f}\")\n"
      ],
      "metadata": {
        "colab": {
          "base_uri": "https://localhost:8080/"
        },
        "id": "d40UGF-J6zX_",
        "outputId": "d25e91cb-5a17-4531-c6b9-05d4a9a914fc"
      },
      "execution_count": null,
      "outputs": [
        {
          "output_type": "stream",
          "name": "stdout",
          "text": [
            "Bigram Probabilities with Laplace Smoothing:\n",
            "('the', 'cat'): 0.3000\n",
            "('cat', 'sat'): 0.2500\n",
            "('sat', 'on'): 0.2857\n",
            "('on', 'the'): 0.2857\n",
            "('the', 'mat'): 0.3000\n",
            "('mat', 'the'): 0.2500\n",
            "('cat', 'saw'): 0.2500\n",
            "('saw', 'the'): 0.2857\n"
          ]
        }
      ]
    },
    {
      "cell_type": "markdown",
      "source": [
        "***9. Write a program to decide whether a given string belongs to the language\n",
        "of grammar or not using Cocke-Younger-Kasami Algorithm.***"
      ],
      "metadata": {
        "id": "uSCAvjtr6yt2"
      }
    },
    {
      "cell_type": "code",
      "source": [
        "def cyk_algorithm(grammar, string):\n",
        "    n = len(string)\n",
        "    # Create a table for the CYK algorithm\n",
        "    table = [[set() for _ in range(n)] for _ in range(n)]\n",
        "\n",
        "    # Convert grammar rules into a dictionary\n",
        "    rules = defaultdict(list)\n",
        "    for left, right in grammar:\n",
        "        rules[right].append(left)\n",
        "\n",
        "    # Populate the table with the grammar rules\n",
        "    for j in range(n):\n",
        "        for left in rules[string[j]]:\n",
        "            table[j][j].add(left)\n",
        "\n",
        "        for i in range(j - 1, -1, -1):\n",
        "            for k in range(i, j):\n",
        "                for B in table[i][k]:\n",
        "                    for C in table[k + 1][j]:\n",
        "                        for left in rules.get(B + C, []):\n",
        "                            table[i][j].add(left)\n",
        "\n",
        "    # Check if the start symbol is in the top-right cell\n",
        "    return \"S\" in table[0][n - 1]\n",
        "\n",
        "# Example grammar and input string\n",
        "grammar = [\n",
        "    (\"S\", \"AB\"),\n",
        "    (\"A\", \"a\"),\n",
        "    (\"B\", \"b\")\n",
        "]\n",
        "string = \"ab\"\n",
        "result = cyk_algorithm(grammar, list(string))\n",
        "\n",
        "print(f\"Does the string '{string}' belong to the language of the grammar? {'Yes' if result else 'No'}\")\n"
      ],
      "metadata": {
        "colab": {
          "base_uri": "https://localhost:8080/"
        },
        "id": "bkRQymJq7ACL",
        "outputId": "045c6563-5907-4651-ab3d-8ee8a113ad95"
      },
      "execution_count": null,
      "outputs": [
        {
          "output_type": "stream",
          "name": "stdout",
          "text": [
            "Does the string 'ab' belong to the language of the grammar? Yes\n"
          ]
        }
      ]
    },
    {
      "cell_type": "markdown",
      "source": [
        "***10. Write a program to implement the minimum edit distance for converting\n",
        "source string to the target string following the dynamic programming\n",
        "approach given the cost of insertion as 1, cost of deletion as 1 and cost of\n",
        "substation as 1.\n",
        "Input: i) A source string ii) A target string\n",
        "Eg: Source String =” intention”, “Piece” ii) Target String=” execution”,\n",
        "“Peace”***"
      ],
      "metadata": {
        "id": "KYaKkyVt7T6p"
      }
    },
    {
      "cell_type": "code",
      "source": [
        "#prog 10 simpler logic no dp no bullshit\n",
        "\n",
        "def steps(text1, text2):\n",
        "  step =0\n",
        "  if len(text1) == len(text2):\n",
        "    for i in range(len(text1)):\n",
        "      if text1[i] != text2[i] :\n",
        "        step +=2\n",
        "      elif text1[i] != \" \":\n",
        "        step += 1\n",
        "      else:\n",
        "        pass\n",
        "  elif len(text1) != len(text2):\n",
        "    return \"text should be of same length\"\n",
        "  return step\n",
        "\n",
        "\n",
        "print(steps(\"colla\", \"rohit\"))"
      ],
      "metadata": {
        "colab": {
          "base_uri": "https://localhost:8080/"
        },
        "id": "moxnZyXI8zqU",
        "outputId": "d4ebf06b-99e4-4ba5-b76c-e5ae131a914a"
      },
      "execution_count": null,
      "outputs": [
        {
          "output_type": "stream",
          "name": "stdout",
          "text": [
            "9\n"
          ]
        }
      ]
    },
    {
      "cell_type": "code",
      "source": [
        "def minimum_edit_distance(source, target):\n",
        "    m, n = len(source), len(target)\n",
        "    dp = [[0] * (n + 1) for _ in range(m + 1)]\n",
        "\n",
        "    # Fill the DP table\n",
        "    for i in range(m + 1):\n",
        "        for j in range(n + 1):\n",
        "            if i == 0:\n",
        "                dp[i][j] = j  # Cost of inserting characters\n",
        "            elif j == 0:\n",
        "                dp[i][j] = i  # Cost of deleting characters\n",
        "            elif source[i - 1] == target[j - 1]:\n",
        "                dp[i][j] = dp[i - 1][j - 1]  # No cost for matching characters\n",
        "            else:\n",
        "                dp[i][j] = 1 + min(dp[i - 1][j],    # Deletion\n",
        "                                   dp[i][j - 1],    # Insertion\n",
        "                                   dp[i - 1][j - 1])  # Substitution\n",
        "\n",
        "    return dp[m][n]\n",
        "\n",
        "# Example inputs\n",
        "source1, target1 = \"intention\", \"execution\"\n",
        "source2, target2 = \"Piece\", \"Peace\"\n",
        "\n",
        "print(f\"Edit Distance between '{source1}' and '{target1}': {minimum_edit_distance(source1, target1)}\")\n",
        "print(f\"Edit Distance between '{source2}' and '{target2}': {minimum_edit_distance(source2, target2)}\")\n"
      ],
      "metadata": {
        "colab": {
          "base_uri": "https://localhost:8080/"
        },
        "id": "epQkK4Ca7d73",
        "outputId": "69402a55-d27a-4e75-84a0-2811e4b7b68a"
      },
      "execution_count": null,
      "outputs": [
        {
          "output_type": "stream",
          "name": "stdout",
          "text": [
            "Edit Distance between 'intention' and 'execution': 5\n",
            "Edit Distance between 'Piece' and 'Peace': 2\n"
          ]
        }
      ]
    },
    {
      "cell_type": "markdown",
      "source": [
        "***11. Write a program identify nouns and adjectives from the given sentence and\n",
        "calculates the overall sentiment score of the extracted adjectives using\n",
        "Chunking in natural language processing (NLP)***"
      ],
      "metadata": {
        "id": "WeSM7SB37dlQ"
      }
    },
    {
      "cell_type": "code",
      "source": [
        "import nltk\n",
        "from nltk import word_tokenize, pos_tag\n",
        "from nltk.corpus import sentiwordnet as swn\n",
        "\n",
        "nltk.download('punkt')\n",
        "nltk.download('averaged_perceptron_tagger')\n",
        "nltk.download('sentiwordnet')\n",
        "\n",
        "def extract_nouns_adjectives_and_sentiment(sentence):\n",
        "    tokens = word_tokenize(sentence)\n",
        "    pos_tags = pos_tag(tokens)\n",
        "\n",
        "    nouns = [word for word, tag in pos_tags if tag.startswith('NN')]\n",
        "    adjectives = [word for word, tag in pos_tags if tag.startswith('JJ')]\n",
        "\n",
        "    sentiment_score = 0\n",
        "    for adj in adjectives:\n",
        "        synsets = list(swn.senti_synsets(adj))\n",
        "        if synsets:\n",
        "            sentiment_score += synsets[0].pos_score() - synsets[0].neg_score()\n",
        "\n",
        "    return nouns, adjectives, sentiment_score\n",
        "\n",
        "# Example sentence\n",
        "sentence = \"The quick brown fox is a clever and amazing animal.\"\n",
        "nouns, adjectives, sentiment_score = extract_nouns_adjectives_and_sentiment(sentence)\n",
        "\n",
        "print(f\"Nouns: {nouns}\")\n",
        "print(f\"Adjectives: {adjectives}\")\n",
        "print(f\"Sentiment Score of Adjectives: {sentiment_score:.2f}\")\n"
      ],
      "metadata": {
        "colab": {
          "base_uri": "https://localhost:8080/"
        },
        "id": "frTfGvpO7ekE",
        "outputId": "8912c326-9f52-4832-8a77-2b1da61b409f"
      },
      "execution_count": null,
      "outputs": [
        {
          "output_type": "stream",
          "name": "stderr",
          "text": [
            "[nltk_data] Downloading package punkt to /root/nltk_data...\n",
            "[nltk_data]   Package punkt is already up-to-date!\n",
            "[nltk_data] Downloading package averaged_perceptron_tagger to\n",
            "[nltk_data]     /root/nltk_data...\n",
            "[nltk_data]   Package averaged_perceptron_tagger is already up-to-\n",
            "[nltk_data]       date!\n",
            "[nltk_data] Downloading package sentiwordnet to /root/nltk_data...\n",
            "[nltk_data]   Unzipping corpora/sentiwordnet.zip.\n"
          ]
        },
        {
          "output_type": "stream",
          "name": "stdout",
          "text": [
            "Nouns: ['brown', 'fox', 'clever', 'animal']\n",
            "Adjectives: ['quick', 'amazing']\n",
            "Sentiment Score of Adjectives: -0.25\n"
          ]
        }
      ]
    },
    {
      "cell_type": "markdown",
      "source": [
        "***12. Write a program to conduct the case study on sentiment analysis using\n",
        "Natural language processing. Use a vaccination_tweets .csv data set***"
      ],
      "metadata": {
        "id": "vth1zvEe7TtP"
      }
    },
    {
      "cell_type": "code",
      "source": [
        "import pandas as pd\n",
        "from textblob import TextBlob\n",
        "import matplotlib.pyplot as plt\n",
        "\n",
        "def analyze_vaccine_tweets(file_path):\n",
        "    # Load the dataset\n",
        "    df = pd.read_csv(file_path)\n",
        "\n",
        "    # Extract tweet text\n",
        "    df['sentiment'] = df['text'].apply(lambda x: TextBlob(x).sentiment.polarity)\n",
        "\n",
        "    # Classify sentiments\n",
        "    df['sentiment_label'] = df['sentiment'].apply(lambda x: 'Positive' if x > 0 else ('Negative' if x < 0 else 'Neutral'))\n",
        "\n",
        "    # Sentiment distribution\n",
        "    sentiment_counts = df['sentiment_label'].value_counts()\n",
        "\n",
        "    # Plot the sentiment distribution\n",
        "    sentiment_counts.plot(kind='bar')\n",
        "    plt.title('Sentiment Distribution in Vaccination Tweets')\n",
        "    plt.xlabel('Sentiment')\n",
        "    plt.ylabel('Count')\n",
        "    plt.show()\n",
        "\n",
        "    return df\n",
        "\n",
        "# Example file path (replace with your actual dataset path)\n",
        "file_path = '/content/vaccination_tweets.csv'\n",
        "analyzed_df = analyze_vaccine_tweets(file_path)\n",
        "\n",
        "# Display the first few rows of the analyzed dataframe\n",
        "print(analyzed_df.head())\n"
      ],
      "metadata": {
        "colab": {
          "base_uri": "https://localhost:8080/",
          "height": 1000
        },
        "id": "aHkUMxrB7Ll8",
        "outputId": "cdf91bac-d506-4ef0-fb67-b45cb74ed4a2"
      },
      "execution_count": null,
      "outputs": [
        {
          "output_type": "display_data",
          "data": {
            "text/plain": [
              "<Figure size 640x480 with 1 Axes>"
            ],
            "image/png": "[encoded data removed]"
          },
          "metadata": {}
        },
        {
          "output_type": "stream",
          "name": "stdout",
          "text": [
            "                    id             user_name              user_location  \\\n",
            "0  1340539111971516416            Rachel Roh  La Crescenta-Montrose, CA   \n",
            "1  1338158543359250433           Albert Fong          San Francisco, CA   \n",
            "2  1337858199140118533              eli🇱🇹🇪🇺👌                   Your Bed   \n",
            "3  1337855739918835717         Charles Adler     Vancouver, BC - Canada   \n",
            "4  1337854064604966912  Citizen News Channel                        NaN   \n",
            "\n",
            "                                    user_description         user_created  \\\n",
            "0  Aggregator of Asian American news; scanning di...  2009-04-08 17:52:46   \n",
            "1  Marketing dude, tech geek, heavy metal & '80s ...  2009-09-21 15:27:30   \n",
            "2                                     heil, hydra 🖐☺  2020-06-25 23:30:28   \n",
            "3  Hosting \"CharlesAdlerTonight\" Global News Radi...  2008-09-10 11:28:53   \n",
            "4  Citizen News Channel bringing you an alternati...  2020-04-23 17:58:42   \n",
            "\n",
            "   user_followers  user_friends  user_favourites  user_verified  \\\n",
            "0             405          1692             3247          False   \n",
            "1             834           666              178          False   \n",
            "2              10            88              155          False   \n",
            "3           49165          3933            21853           True   \n",
            "4             152           580             1473          False   \n",
            "\n",
            "                  date                                               text  \\\n",
            "0  2020-12-20 06:06:44  Same folks said daikon paste could treat a cyt...   \n",
            "1  2020-12-13 16:27:13  While the world has been on the wrong side of ...   \n",
            "2  2020-12-12 20:33:45  #coronavirus #SputnikV #AstraZeneca #PfizerBio...   \n",
            "3  2020-12-12 20:23:59  Facts are immutable, Senator, even when you're...   \n",
            "4  2020-12-12 20:17:19  Explain to me again why we need a vaccine @Bor...   \n",
            "\n",
            "                                            hashtags               source  \\\n",
            "0                                 ['PfizerBioNTech']  Twitter for Android   \n",
            "1                                                NaN      Twitter Web App   \n",
            "2  ['coronavirus', 'SputnikV', 'AstraZeneca', 'Pf...  Twitter for Android   \n",
            "3                                                NaN      Twitter Web App   \n",
            "4     ['whereareallthesickpeople', 'PfizerBioNTech']   Twitter for iPhone   \n",
            "\n",
            "   retweets  favorites  is_retweet  sentiment sentiment_label  \n",
            "0         0          0       False       0.00         Neutral  \n",
            "1         1          1       False      -0.50        Negative  \n",
            "2         0          0       False       0.00         Neutral  \n",
            "3       446       2129       False      -0.05        Negative  \n",
            "4         0          0       False       0.00         Neutral  \n"
          ]
        }
      ]
    },
    {
      "cell_type": "markdown",
      "source": [
        "2 a"
      ],
      "metadata": {
        "id": "kUZdsPhLkiWp"
      }
    },
    {
      "cell_type": "code",
      "source": [
        "import nltk\n",
        "from nltk import word_tokenize\n",
        "\n",
        "text=\"\"\" There is a man on the hill, and I watched him with my telescope. There is a man on the hill, and\n",
        "he has a telescope. I’m on a hill, and I saw a man using my telescope.\"\"\"\n",
        "\n",
        "words = word_tokenize(text)\n",
        "clean_words = [stemmer.stem(word) for word in words if word not in set(stopwords.words('english'))]\n",
        "print(len(words))\n",
        "print(words)\n",
        "\n",
        "\n",
        "from nltk.probability import FreqDist\n",
        "fdist = FreqDist(words)\n",
        "fdist.most_common(10)\n"
      ],
      "metadata": {
        "id": "yWDHly1j8v7-"
      },
      "execution_count": null,
      "outputs": []
    },
    {
      "cell_type": "code",
      "source": [
        "\n",
        "import matplotlib.pyplot as plt\n",
        "fdist.plot(20)\n"
      ],
      "metadata": {
        "id": "zRnmcuk-kYmS"
      },
      "execution_count": null,
      "outputs": []
    },
    {
      "cell_type": "code",
      "source": [
        "from nltk.probability import FreqDist\n",
        "fdist = FreqDist(clean_words)\n",
        "fdist.most_common(10)\n",
        "fdist.plot(20)"
      ],
      "metadata": {
        "id": "KYkzdDRykbDW"
      },
      "execution_count": null,
      "outputs": []
    },
    {
      "cell_type": "markdown",
      "source": [
        "cyk"
      ],
      "metadata": {
        "id": "n5g_zfiqlQ0j"
      }
    },
    {
      "cell_type": "code",
      "source": [
        "from collections import defaultdict\n",
        "\n",
        "# The user gives the set of variables, the first one is S\n",
        "variables = []\n",
        "for x in range(int(input(\"Enter number of variables: \"))):\n",
        "    variables.append(input(\"Var[\" + str(x) + \"] in UPPERCASE: \")[0])\n",
        "\n",
        "print(variables)\n",
        "# The user gives the set of rules\n",
        "# The terminals are all the characters that are not variables\n",
        "rules = defaultdict(list)\n",
        "for x in variables:\n",
        "    rules_var = []\n",
        "    for y in range(int(input(\"Number of rules for \" + x + \": \"))):\n",
        "        rules_var.append(input(x + \" = \"))\n",
        "    rules[x] = rules_var\n",
        "\n",
        "print(rules)\n",
        "# Function to process substrings for CYK algorithm\n",
        "def cykFun(substr, rules, cyk, x):\n",
        "    res = set()\n",
        "    for z in range(x - 1):\n",
        "        var1 = cyk[substr[:z + 1]]\n",
        "        var2 = cyk[substr[z + 1:]]\n",
        "        for var in [x + y for x in var1 for y in var2]:\n",
        "            for key in rules:\n",
        "                if var in rules[key]:\n",
        "                    res.add(key)\n",
        "    cyk[substr] = res\n",
        "    return cyk\n",
        "\n",
        "# Initialize CYK table\n",
        "cyk = defaultdict(set)\n",
        "string = input(\"Enter a string: \")\n",
        "for x in range(1, len(string) + 1):\n",
        "    for y in range(len(string) + 1 - x):\n",
        "        substr = string[y : y + x]\n",
        "        if x == 1:\n",
        "            for key in rules:\n",
        "                if substr in rules[key]:\n",
        "                    cyk[substr].add(key)\n",
        "        else:\n",
        "            cyk = cykFun(substr, rules, cyk, x)\n",
        "\n",
        "# Output the result\n",
        "print('Belongs' if cyk[string] else 'Not Belongs')\n"
      ],
      "metadata": {
        "id": "cbnttRzYlMqS"
      },
      "execution_count": null,
      "outputs": []
    }
  ]
}